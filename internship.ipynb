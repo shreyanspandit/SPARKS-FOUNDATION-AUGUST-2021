{
 "cells": [
  {
   "cell_type": "code",
   "execution_count": 1,
   "id": "bearing-shuttle",
   "metadata": {},
   "outputs": [],
   "source": [
    "#The Sparks Foundation - Data Science & Business Analytics Internship\n",
    "#Task 2: Color Identification in Images\n",
    "#Technologies:- Python, Pandas, OpenCV\n",
    "#Shreyans Pandit"
   ]
  },
  {
   "cell_type": "code",
   "execution_count": 2,
   "id": "71f841a0",
   "metadata": {},
   "outputs": [],
   "source": [
    "import cv2\n",
    "import pandas as pd"
   ]
  },
  {
   "cell_type": "code",
   "execution_count": 3,
   "id": "08cf75b7",
   "metadata": {},
   "outputs": [],
   "source": [
    "img_path = '970937.jpg'\n",
    "csv_path = 'colors.csv'"
   ]
  },
  {
   "cell_type": "code",
   "execution_count": 4,
   "id": "345d629c",
   "metadata": {},
   "outputs": [],
   "source": [
    "# reading csv file\n",
    "index = ['color', 'color_name', 'hex', 'R', 'G', 'B']\n",
    "df = pd.read_csv(csv_path, names=index, header=None)"
   ]
  },
  {
   "cell_type": "code",
   "execution_count": 5,
   "id": "a190fb5b",
   "metadata": {},
   "outputs": [],
   "source": [
    "# reading image\n",
    "img = cv2.imread(img_path)\n",
    "img = cv2.resize(img, (1280,720))"
   ]
  },
  {
   "cell_type": "code",
   "execution_count": 6,
   "id": "d9ca8ba4",
   "metadata": {},
   "outputs": [],
   "source": [
    "#declaring global variables\n",
    "clicked = False\n",
    "r = g = b = xpos = ypos = 0"
   ]
  },
  {
   "cell_type": "code",
   "execution_count": 7,
   "id": "4ea0b395",
   "metadata": {},
   "outputs": [],
   "source": [
    "#function to calculate minimum distance from all colors and get the most matching color\n",
    "def get_color_name(R,G,B):\n",
    "\tminimum = 1000\n",
    "\tfor i in range(len(df)):\n",
    "\t\td = abs(R - int(df.loc[i,'R'])) + abs(G - int(df.loc[i,'G'])) + abs(B - int(df.loc[i,'B']))\n",
    "\t\tif d <= minimum:\n",
    "\t\t\tminimum = d\n",
    "\t\t\tcname = df.loc[i, 'color_name']\n",
    "\n",
    "\treturn cname"
   ]
  },
  {
   "cell_type": "code",
   "execution_count": 8,
   "id": "087727ea",
   "metadata": {},
   "outputs": [],
   "source": [
    "#function to get x,y coordinates of mouse double click\n",
    "def draw_function(event, x, y, flags, params):\n",
    "\tif event == cv2.EVENT_LBUTTONDBLCLK:\n",
    "\t\tglobal b, g, r, xpos, ypos, clicked\n",
    "\t\tclicked = True\n",
    "\t\txpos = x\n",
    "\t\typos = y\n",
    "\t\tb,g,r = img[y,x]\n",
    "\t\tb = int(b)\n",
    "\t\tg = int(g)\n",
    "\t\tr = int(r)"
   ]
  },
  {
   "cell_type": "code",
   "execution_count": 9,
   "id": "4a3441c3",
   "metadata": {},
   "outputs": [],
   "source": [
    "# creating window\n",
    "cv2.namedWindow('image')\n",
    "cv2.setMouseCallback('image', draw_function)"
   ]
  },
  {
   "cell_type": "code",
   "execution_count": null,
   "id": "fd8c2b51",
   "metadata": {},
   "outputs": [],
   "source": [
    "while True:\n",
    "\tcv2.imshow('image', img)\n",
    "\tif clicked:\n",
    "\t\t#cv2.rectangle(image, startpoint, endpoint, color, thickness)-1 fills entire rectangle \n",
    "\t\tcv2.rectangle(img, (20,20), (600,60), (b,g,r), -1)\n",
    "\n",
    "\t\t#Creating text string to display( Color name and RGB values )\n",
    "\t\ttext = get_color_name(r,g,b) + ' R=' + str(r) + ' G=' + str(g) + ' B=' + str(b)\n",
    "\t\t#cv2.putText(img,text,start,font(0-7),fontScale,color,thickness,lineType )\n",
    "\t\tcv2.putText(img, text, (50,50), 2,0.8, (255,255,255),2,cv2.LINE_AA)\n",
    "\n",
    "\t\t#For very light colours we will display text in black colour\n",
    "\t\tif r+g+b >=600:\n",
    "\t\t\tcv2.putText(img, text, (50,50), 2,0.8, (0,0,0),2,cv2.LINE_AA)\n",
    "\n",
    "\tif cv2.waitKey(20) & 0xFF == 27:\n",
    "\t\tbreak\n",
    "\n",
    "cv2.destroyAllWindows()"
   ]
  },
  {
   "cell_type": "code",
   "execution_count": null,
   "id": "11924aea",
   "metadata": {},
   "outputs": [],
   "source": []
  },
  {
   "cell_type": "code",
   "execution_count": null,
   "id": "wanted-metabolism",
   "metadata": {},
   "outputs": [],
   "source": []
  }
 ],
 "metadata": {
  "kernelspec": {
   "display_name": "Python 3",
   "language": "python",
   "name": "python3"
  },
  "language_info": {
   "codemirror_mode": {
    "name": "ipython",
    "version": 3
   },
   "file_extension": ".py",
   "mimetype": "text/x-python",
   "name": "python",
   "nbconvert_exporter": "python",
   "pygments_lexer": "ipython3",
   "version": "3.8.10"
  }
 },
 "nbformat": 4,
 "nbformat_minor": 5
}
